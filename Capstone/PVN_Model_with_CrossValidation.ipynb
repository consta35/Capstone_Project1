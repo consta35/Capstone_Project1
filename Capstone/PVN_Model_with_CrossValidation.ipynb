{
 "cells": [
  {
   "cell_type": "code",
   "execution_count": 2,
   "metadata": {
    "collapsed": false
   },
   "outputs": [
    {
     "data": {},
     "metadata": {},
     "output_type": "display_data"
    },
    {
     "data": {
      "image/png": "[encoded data removed]",
      "text/plain": [
       "plot without title"
      ]
     },
     "metadata": {},
     "output_type": "display_data"
    }
   ],
   "source": [
    "setwd(\"E:\\\\PVN_Sequencing\\\\PCA_GeneExp_Behav\")\n",
    "data2<- read.csv (\"PVNsigUP_HPA1.csv\", header=TRUE, row.name=1)\t\n",
    "\n",
    "n=ncol(data2)\n",
    "\n",
    "data_2<-data2 [,1:(n-1)]\n",
    "Group2<- data2[,n]\n",
    "\n",
    "pca2<-prcomp(data_2,\n",
    "                center = TRUE,\n",
    "                 scale. = TRUE)\n",
    "\n",
    "library(ggbiplot)\n",
    "library(plotly)\n",
    "g <- ggbiplot(pca2, obs.scale = 1, var.scale = 1, \n",
    "              groups = Group2, ellipse = TRUE,varname.size = 3, varname.adjust = 2, \n",
    "              circle = TRUE)\n",
    "g <- g + scale_color_discrete(name = '')\n",
    "g <- g + theme(legend.direction = 'horizontal', \n",
    "               legend.position = 'top',\n",
    "               panel.background= element_rect(fill = 'white'),\n",
    "               axis.line = element_line(colour = \"black\", size = 1))\n",
    "g "
   ]
  },
  {
   "cell_type": "code",
   "execution_count": 20,
   "metadata": {
    "collapsed": false
   },
   "outputs": [
    {
     "data": {
      "text/plain": [
       "\n",
       "Call:\n",
       "lm(formula = OFA ~ GREB1L + PRLR + TRIM66, data = input)\n",
       "\n",
       "Residuals:\n",
       "    Min      1Q  Median      3Q     Max \n",
       "-686.07 -203.12   35.41  190.11  719.69 \n",
       "\n",
       "Coefficients:\n",
       "             Estimate Std. Error t value Pr(>|t|)  \n",
       "(Intercept) -2589.357   1062.254  -2.438   0.0506 .\n",
       "GREB1L         10.613      4.102   2.587   0.0414 *\n",
       "PRLR          -38.916     23.994  -1.622   0.1560  \n",
       "TRIM66          1.348      2.765   0.488   0.6431  \n",
       "---\n",
       "Signif. codes:  0 '***' 0.001 '**' 0.01 '*' 0.05 '.' 0.1 ' ' 1\n",
       "\n",
       "Residual standard error: 521.1 on 6 degrees of freedom\n",
       "Multiple R-squared:  0.804,\tAdjusted R-squared:  0.706 \n",
       "F-statistic: 8.203 on 3 and 6 DF,  p-value: 0.01521\n"
      ]
     },
     "metadata": {},
     "output_type": "display_data"
    },
    {
     "data": {
      "text/html": [
       "<table>\n",
       "<thead><tr><th></th><th scope=col>GREB1L</th><th scope=col>PRLR</th><th scope=col>TRIM66</th><th scope=col>OFA</th><th scope=col>Predicted</th></tr></thead>\n",
       "<tbody>\n",
       "\t<tr><th scope=row>Control1</th><td>387      </td><td> 29      </td><td> 614     </td><td>1344.6   </td><td>1217.2695</td></tr>\n",
       "\t<tr><th scope=row>Control2</th><td>465      </td><td> 73      </td><td> 845     </td><td>1091.0   </td><td> 644.2328</td></tr>\n",
       "\t<tr><th scope=row>Control3</th><td>363      </td><td> 37      </td><td> 605     </td><td> 780.0   </td><td> 639.0819</td></tr>\n",
       "\t<tr><th scope=row>Control4</th><td>274      </td><td> 23      </td><td> 617     </td><td> 462.0   </td><td> 255.4928</td></tr>\n",
       "\t<tr><th scope=row>Control5</th><td>325      </td><td> 35      </td><td> 464     </td><td>  67.0   </td><td> 123.5069</td></tr>\n",
       "\t<tr><th scope=row>Beta1</th><td>458      </td><td> 58      </td><td> 798     </td><td> 956.0   </td><td>1090.3188</td></tr>\n",
       "\t<tr><th scope=row>Beta2</th><td>414      </td><td> 61      </td><td> 785     </td><td> 263.0   </td><td> 489.0513</td></tr>\n",
       "\t<tr><th scope=row>Beta3</th><td>736      </td><td>103      </td><td>1133     </td><td>2203.0   </td><td>2741.2686</td></tr>\n",
       "\t<tr><th scope=row>Beta4</th><td>686      </td><td> 96      </td><td> 996     </td><td>3018.0   </td><td>2298.3069</td></tr>\n",
       "\t<tr><th scope=row>Beta5</th><td>421      </td><td> 53      </td><td> 677     </td><td>  43.0   </td><td> 729.0705</td></tr>\n",
       "</tbody>\n",
       "</table>\n"
      ],
      "text/latex": [
       "\\begin{tabular}{r|lllll}\n",
       "  & GREB1L & PRLR & TRIM66 & OFA & Predicted\\\\\n",
       "\\hline\n",
       "\tControl1 & 387       &  29       &  614      & 1344.6    & 1217.2695\\\\\n",
       "\tControl2 & 465       &  73       &  845      & 1091.0    &  644.2328\\\\\n",
       "\tControl3 & 363       &  37       &  605      &  780.0    &  639.0819\\\\\n",
       "\tControl4 & 274       &  23       &  617      &  462.0    &  255.4928\\\\\n",
       "\tControl5 & 325       &  35       &  464      &   67.0    &  123.5069\\\\\n",
       "\tBeta1 & 458       &  58       &  798      &  956.0    & 1090.3188\\\\\n",
       "\tBeta2 & 414       &  61       &  785      &  263.0    &  489.0513\\\\\n",
       "\tBeta3 & 736       & 103       & 1133      & 2203.0    & 2741.2686\\\\\n",
       "\tBeta4 & 686       &  96       &  996      & 3018.0    & 2298.3069\\\\\n",
       "\tBeta5 & 421       &  53       &  677      &   43.0    &  729.0705\\\\\n",
       "\\end{tabular}\n"
      ],
      "text/markdown": [
       "\n",
       "| <!--/--> | GREB1L | PRLR | TRIM66 | OFA | Predicted | \n",
       "|---|---|---|---|---|---|---|---|---|---|\n",
       "| Control1 | 387       |  29       |  614      | 1344.6    | 1217.2695 | \n",
       "| Control2 | 465       |  73       |  845      | 1091.0    |  644.2328 | \n",
       "| Control3 | 363       |  37       |  605      |  780.0    |  639.0819 | \n",
       "| Control4 | 274       |  23       |  617      |  462.0    |  255.4928 | \n",
       "| Control5 | 325       |  35       |  464      |   67.0    |  123.5069 | \n",
       "| Beta1 | 458       |  58       |  798      |  956.0    | 1090.3188 | \n",
       "| Beta2 | 414       |  61       |  785      |  263.0    |  489.0513 | \n",
       "| Beta3 | 736       | 103       | 1133      | 2203.0    | 2741.2686 | \n",
       "| Beta4 | 686       |  96       |  996      | 3018.0    | 2298.3069 | \n",
       "| Beta5 | 421       |  53       |  677      |   43.0    |  729.0705 | \n",
       "\n",
       "\n"
      ],
      "text/plain": [
       "         GREB1L PRLR TRIM66 OFA    Predicted\n",
       "Control1 387     29   614   1344.6 1217.2695\n",
       "Control2 465     73   845   1091.0  644.2328\n",
       "Control3 363     37   605    780.0  639.0819\n",
       "Control4 274     23   617    462.0  255.4928\n",
       "Control5 325     35   464     67.0  123.5069\n",
       "Beta1    458     58   798    956.0 1090.3188\n",
       "Beta2    414     61   785    263.0  489.0513\n",
       "Beta3    736    103  1133   2203.0 2741.2686\n",
       "Beta4    686     96   996   3018.0 2298.3069\n",
       "Beta5    421     53   677     43.0  729.0705"
      ]
     },
     "metadata": {},
     "output_type": "display_data"
    }
   ],
   "source": [
    "input <- data_2[,c(\"GREB1L\",\"PRLR\",\"TRIM66\",\"OFA\")]\n",
    "\n",
    "  \n",
    "model <- lm(OFA~GREB1L+PRLR+TRIM66, data = input)\n",
    "summary(model)\n",
    "\n",
    "input['Predicted'] = fitted.values(model)\n",
    "\n",
    "input \n"
   ]
  },
  {
   "cell_type": "code",
   "execution_count": 74,
   "metadata": {
    "collapsed": false
   },
   "outputs": [],
   "source": [
    "### Leave One Out Cross Validation (LOO CV)\n",
    "\n",
    "Predicted_CV = NULL\n",
    "\n",
    "for (i in (1:nrow(input))){\n",
    "    loo <-input[-i,]\n",
    "    model_cv = lm(OFA~GREB1L+PRLR+TRIM66, data=loo)\n",
    "    a <- coef(model_cv)[1]\n",
    "    XGREB1L <- coef(model_cv)[2]\n",
    "    XPRLR <- coef(model_cv)[3]\n",
    "    XTRIM66<-coef(model_cv)[4]\n",
    "    row = input[i,] \n",
    "    Predicted_CV[i]= a+XGREB1L*row['GREB1L']+XPRLR*row['PRLR']+XTRIM66*row['TRIM66']\n",
    "    \n",
    "}\n",
    "\n",
    "\n",
    "Predicted_CV= as.numeric(Predicted_CV)"
   ]
  },
  {
   "cell_type": "code",
   "execution_count": 75,
   "metadata": {
    "collapsed": false
   },
   "outputs": [
    {
     "data": {
      "text/html": [
       "<table>\n",
       "<thead><tr><th></th><th scope=col>GREB1L</th><th scope=col>PRLR</th><th scope=col>TRIM66</th><th scope=col>OFA</th><th scope=col>Predicted</th><th scope=col>Predicted_CV</th></tr></thead>\n",
       "<tbody>\n",
       "\t<tr><th scope=row>Control1</th><td>387        </td><td> 29        </td><td> 614       </td><td>1344.6     </td><td>1217.2695  </td><td>1062.861504</td></tr>\n",
       "\t<tr><th scope=row>Control2</th><td>465        </td><td> 73        </td><td> 845       </td><td>1091.0     </td><td> 644.2328  </td><td> 313.761255</td></tr>\n",
       "\t<tr><th scope=row>Control3</th><td>363        </td><td> 37        </td><td> 605       </td><td> 780.0     </td><td> 639.0819  </td><td> 609.199441</td></tr>\n",
       "\t<tr><th scope=row>Control4</th><td>274        </td><td> 23        </td><td> 617       </td><td> 462.0     </td><td> 255.4928  </td><td>   1.363527</td></tr>\n",
       "\t<tr><th scope=row>Control5</th><td>325        </td><td> 35        </td><td> 464       </td><td>  67.0     </td><td> 123.5069  </td><td> 234.785269</td></tr>\n",
       "\t<tr><th scope=row>Beta1</th><td>458        </td><td> 58        </td><td> 798       </td><td> 956.0     </td><td>1090.3188  </td><td>1111.912306</td></tr>\n",
       "\t<tr><th scope=row>Beta2</th><td>414        </td><td> 61        </td><td> 785       </td><td> 263.0     </td><td> 489.0513  </td><td> 602.695488</td></tr>\n",
       "\t<tr><th scope=row>Beta3</th><td>736        </td><td>103        </td><td>1133       </td><td>2203.0     </td><td>2741.2686  </td><td>3436.798599</td></tr>\n",
       "\t<tr><th scope=row>Beta4</th><td>686        </td><td> 96        </td><td> 996       </td><td>3018.0     </td><td>2298.3069  </td><td>1742.619956</td></tr>\n",
       "\t<tr><th scope=row>Beta5</th><td>421        </td><td> 53        </td><td> 677       </td><td>  43.0     </td><td> 729.0705  </td><td> 864.065442</td></tr>\n",
       "</tbody>\n",
       "</table>\n"
      ],
      "text/latex": [
       "\\begin{tabular}{r|llllll}\n",
       "  & GREB1L & PRLR & TRIM66 & OFA & Predicted & Predicted\\_CV\\\\\n",
       "\\hline\n",
       "\tControl1 & 387         &  29         &  614        & 1344.6      & 1217.2695   & 1062.861504\\\\\n",
       "\tControl2 & 465         &  73         &  845        & 1091.0      &  644.2328   &  313.761255\\\\\n",
       "\tControl3 & 363         &  37         &  605        &  780.0      &  639.0819   &  609.199441\\\\\n",
       "\tControl4 & 274         &  23         &  617        &  462.0      &  255.4928   &    1.363527\\\\\n",
       "\tControl5 & 325         &  35         &  464        &   67.0      &  123.5069   &  234.785269\\\\\n",
       "\tBeta1 & 458         &  58         &  798        &  956.0      & 1090.3188   & 1111.912306\\\\\n",
       "\tBeta2 & 414         &  61         &  785        &  263.0      &  489.0513   &  602.695488\\\\\n",
       "\tBeta3 & 736         & 103         & 1133        & 2203.0      & 2741.2686   & 3436.798599\\\\\n",
       "\tBeta4 & 686         &  96         &  996        & 3018.0      & 2298.3069   & 1742.619956\\\\\n",
       "\tBeta5 & 421         &  53         &  677        &   43.0      &  729.0705   &  864.065442\\\\\n",
       "\\end{tabular}\n"
      ],
      "text/markdown": [
       "\n",
       "| <!--/--> | GREB1L | PRLR | TRIM66 | OFA | Predicted | Predicted_CV | \n",
       "|---|---|---|---|---|---|---|---|---|---|\n",
       "| Control1 | 387         |  29         |  614        | 1344.6      | 1217.2695   | 1062.861504 | \n",
       "| Control2 | 465         |  73         |  845        | 1091.0      |  644.2328   |  313.761255 | \n",
       "| Control3 | 363         |  37         |  605        |  780.0      |  639.0819   |  609.199441 | \n",
       "| Control4 | 274         |  23         |  617        |  462.0      |  255.4928   |    1.363527 | \n",
       "| Control5 | 325         |  35         |  464        |   67.0      |  123.5069   |  234.785269 | \n",
       "| Beta1 | 458         |  58         |  798        |  956.0      | 1090.3188   | 1111.912306 | \n",
       "| Beta2 | 414         |  61         |  785        |  263.0      |  489.0513   |  602.695488 | \n",
       "| Beta3 | 736         | 103         | 1133        | 2203.0      | 2741.2686   | 3436.798599 | \n",
       "| Beta4 | 686         |  96         |  996        | 3018.0      | 2298.3069   | 1742.619956 | \n",
       "| Beta5 | 421         |  53         |  677        |   43.0      |  729.0705   |  864.065442 | \n",
       "\n",
       "\n"
      ],
      "text/plain": [
       "         GREB1L PRLR TRIM66 OFA    Predicted Predicted_CV\n",
       "Control1 387     29   614   1344.6 1217.2695 1062.861504 \n",
       "Control2 465     73   845   1091.0  644.2328  313.761255 \n",
       "Control3 363     37   605    780.0  639.0819  609.199441 \n",
       "Control4 274     23   617    462.0  255.4928    1.363527 \n",
       "Control5 325     35   464     67.0  123.5069  234.785269 \n",
       "Beta1    458     58   798    956.0 1090.3188 1111.912306 \n",
       "Beta2    414     61   785    263.0  489.0513  602.695488 \n",
       "Beta3    736    103  1133   2203.0 2741.2686 3436.798599 \n",
       "Beta4    686     96   996   3018.0 2298.3069 1742.619956 \n",
       "Beta5    421     53   677     43.0  729.0705  864.065442 "
      ]
     },
     "metadata": {},
     "output_type": "display_data"
    }
   ],
   "source": [
    "final = cbind(input,Predicted_CV)\n",
    "final"
   ]
  },
  {
   "cell_type": "code",
   "execution_count": 64,
   "metadata": {
    "collapsed": false
   },
   "outputs": [
    {
     "data": {
      "text/plain": [
       "\n",
       "Call:\n",
       "lm(formula = Predicted ~ OFA, data = final)\n",
       "\n",
       "Residuals:\n",
       "    Min      1Q  Median      3Q     Max \n",
       "-433.39 -284.45  -97.54  110.21  769.62 \n",
       "\n",
       "Coefficients:\n",
       "            Estimate Std. Error t value Pr(>|t|)    \n",
       "(Intercept) 200.4786   192.2958   1.043  0.32763    \n",
       "OFA           0.8040     0.1404   5.728  0.00044 ***\n",
       "---\n",
       "Signif. codes:  0 '***' 0.001 '**' 0.01 '*' 0.05 '.' 0.1 ' ' 1\n",
       "\n",
       "Residual standard error: 404.6 on 8 degrees of freedom\n",
       "Multiple R-squared:  0.804,\tAdjusted R-squared:  0.7795 \n",
       "F-statistic: 32.81 on 1 and 8 DF,  p-value: 0.0004398\n"
      ]
     },
     "metadata": {},
     "output_type": "display_data"
    }
   ],
   "source": [
    "## Model using fitted values before cross validation\n",
    "model_predicted = lm(Predicted ~ OFA, data=final)\n",
    "summary(model_predicted)"
   ]
  },
  {
   "cell_type": "code",
   "execution_count": 83,
   "metadata": {
    "collapsed": true
   },
   "outputs": [],
   "source": [
    "library(devtools)\n",
    "library(ggplot2)"
   ]
  },
  {
   "cell_type": "code",
   "execution_count": 86,
   "metadata": {
    "collapsed": false
   },
   "outputs": [
    {
     "data": {},
     "metadata": {},
     "output_type": "display_data"
    },
    {
     "data": {
      "image/png": "[encoded data removed]",
      "text/plain": [
       "plot without title"
      ]
     },
     "metadata": {},
     "output_type": "display_data"
    }
   ],
   "source": [
    "## Model Without Cross Validation\n",
    "\n",
    "p<- ggplot(input,aes(OFA,Predicted)) +\n",
    "    geom_point(size=4, color = 'navy') +\n",
    "    labs(\n",
    "        x= \"Observed Activity (OU)\",\n",
    "        y= \"Predicted Activity (OU)\"\n",
    "        ) +\n",
    "    geom_smooth(method = 'lm', se=FALSE)\n",
    "p + theme(\n",
    "        axis.line = element_line(colour = \"black\", size = 1),\n",
    "        axis.title.x = element_text(size=20),\n",
    "        axis.title.y = element_text(size=20),\n",
    "        axis.text = element_text(size=14),\n",
    "        panel.background= element_rect(fill = 'white'))"
   ]
  },
  {
   "cell_type": "code",
   "execution_count": 76,
   "metadata": {
    "collapsed": false
   },
   "outputs": [
    {
     "data": {
      "text/plain": [
       "\n",
       "Call:\n",
       "lm(formula = Predicted_CV ~ OFA, data = final)\n",
       "\n",
       "Residuals:\n",
       "   Min     1Q Median     3Q    Max \n",
       "-734.7 -488.8 -114.8  165.7 1566.1 \n",
       "\n",
       "Coefficients:\n",
       "            Estimate Std. Error t value Pr(>|t|)  \n",
       "(Intercept) 241.7774   350.2551   0.690   0.5095  \n",
       "OFA           0.7394     0.2556   2.892   0.0201 *\n",
       "---\n",
       "Signif. codes:  0 '***' 0.001 '**' 0.01 '*' 0.05 '.' 0.1 ' ' 1\n",
       "\n",
       "Residual standard error: 737 on 8 degrees of freedom\n",
       "Multiple R-squared:  0.5112,\tAdjusted R-squared:  0.4501 \n",
       "F-statistic: 8.365 on 1 and 8 DF,  p-value: 0.02013\n"
      ]
     },
     "metadata": {},
     "output_type": "display_data"
    }
   ],
   "source": [
    "## Model using fitted values After LOO CV\n",
    "model_predicted = lm(Predicted_CV ~ OFA, data=final)\n",
    "summary(model_predicted)"
   ]
  },
  {
   "cell_type": "code",
   "execution_count": 88,
   "metadata": {
    "collapsed": false
   },
   "outputs": [
    {
     "data": {},
     "metadata": {},
     "output_type": "display_data"
    },
    {
     "data": {
      "image/png": "[encoded data removed]",
      "text/plain": [
       "plot without title"
      ]
     },
     "metadata": {},
     "output_type": "display_data"
    }
   ],
   "source": [
    "## Model with LOO Cross Validation\n",
    "p<- ggplot(input,aes(OFA,Predicted_CV)) +\n",
    "    geom_point(size=4, color = 'darkgreen') +\n",
    "    labs(\n",
    "        x= \"Observed Activity (OU)\",\n",
    "        y= \"Predicted Activity (OU)\"\n",
    "        ) +\n",
    "    geom_smooth(method = 'lm', se=FALSE)\n",
    "p + theme(\n",
    "        axis.line = element_line(colour = \"black\", size = 1),\n",
    "        axis.title.x = element_text(size=20),\n",
    "        axis.title.y = element_text(size=20),\n",
    "        axis.text = element_text(size=14),\n",
    "        panel.background= element_rect(fill = 'white'))"
   ]
  },
  {
   "cell_type": "code",
   "execution_count": null,
   "metadata": {
    "collapsed": true
   },
   "outputs": [],
   "source": []
  }
 ],
 "metadata": {
  "anaconda-cloud": {},
  "kernelspec": {
   "display_name": "R",
   "language": "R",
   "name": "ir"
  },
  "language_info": {
   "codemirror_mode": "r",
   "file_extension": ".r",
   "mimetype": "text/x-r-source",
   "name": "R",
   "pygments_lexer": "r",
   "version": "3.2.3"
  }
 },
 "nbformat": 4,
 "nbformat_minor": 1
}
